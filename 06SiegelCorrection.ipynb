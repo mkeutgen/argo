{
 "cells": [
  {
   "cell_type": "code",
   "execution_count": 12,
   "id": "48b1eec9-c136-4723-8bae-8d1abaf8f278",
   "metadata": {},
   "outputs": [],
   "source": [
    "import xarray as xr\n",
    "import numpy as np\n",
    "import pandas as pd\n",
    "\n",
    "# Open the NetCDF file\n",
    "ds = xr.open_dataset('/data/GLOBARGO/data/15228690/fseq_OCIM2_48L.nc', chunks={'time': 1})\n",
    "\n",
    "# Print structure to understand the file better\n",
    "ds = ds.assign_coords(time=np.arange(0, 1001))  # 0–1000 years, total 1001 steps"
   ]
  },
  {
   "cell_type": "code",
   "execution_count": 16,
   "id": "da11244b-4ee4-44d8-b04e-8fc191ec9177",
   "metadata": {},
   "outputs": [],
   "source": [
    "# Select the closest time to 50 years\n",
    "ds_50yr = ds.sel(time=50, method='nearest')\n",
    "\n",
    "# 2. Select 50-year data (convert to NumPy)\n",
    "ds_50yr = ds.sel(time=50, method='nearest')\n",
    "fseq_50yr_np = ds_50yr['fseq'].compute().data"
   ]
  },
  {
   "cell_type": "code",
   "execution_count": 17,
   "id": "bc117ca7-a41e-4405-be23-eaac646b4a19",
   "metadata": {},
   "outputs": [],
   "source": [
    "mask_np = ds['MASK'].compute().data\n",
    "\n",
    "# 3. Reconstruct 3D array\n",
    "fseq_3d_np = np.full_like(mask_np, np.nan, dtype=float)\n",
    "fseq_3d_np[mask_np == 1] = fseq_50yr_np\n",
    "\n",
    "# 4. Create xarray DataArray\n",
    "fseq_3d = xr.DataArray(\n",
    "    fseq_3d_np,\n",
    "    dims=ds['MASK'].dims,\n",
    "    coords={dim: ds[dim] for dim in ds['MASK'].dims}\n",
    ")\n",
    "\n",
    "# 5. Filter depths ≤1000m\n",
    "depth_mask = (ds['DEPTH'] <= 1000) & (ds['MASK'] == 1)\n",
    "fseq_shallow = fseq_3d.where(depth_mask.compute())  # Compute the mask if Dask-backed"
   ]
  },
  {
   "cell_type": "code",
   "execution_count": 23,
   "id": "8e73b2ca-ad26-4333-85ab-933fc20d3794",
   "metadata": {},
   "outputs": [
    {
     "data": {
      "text/plain": [
       "(array([1.90000e+01, 8.90000e+01, 1.23759e+05, 4.47380e+04, 2.87130e+04,\n",
       "        2.23770e+04, 1.85530e+04, 1.61370e+04, 2.28000e+02, 1.50000e+01]),\n",
       " array([-0.51093393, -0.31749556, -0.12405719,  0.06938118,  0.26281955,\n",
       "         0.45625792,  0.64969629,  0.84313466,  1.03657303,  1.2300114 ,\n",
       "         1.42344977]),\n",
       " <BarContainer object of 10 artists>)"
      ]
     },
     "execution_count": 23,
     "metadata": {},
     "output_type": "execute_result"
    },
    {
     "data": {
      "image/png": "[encoded data removed]",
      "text/plain": [
       "<Figure size 640x480 with 1 Axes>"
      ]
     },
     "metadata": {},
     "output_type": "display_data"
    }
   ],
   "source": [
    "unique_values = np.unique(fseq_shallow.values)\n",
    "fseq_shallow.plot.hist()"
   ]
  },
  {
   "cell_type": "code",
   "execution_count": 28,
   "id": "f4e50b45-f1f7-4d35-8e8c-81e7e024d991",
   "metadata": {},
   "outputs": [
    {
     "data": {
      "text/html": [
       "<div>\n",
       "<style scoped>\n",
       "    .dataframe tbody tr th:only-of-type {\n",
       "        vertical-align: middle;\n",
       "    }\n",
       "\n",
       "    .dataframe tbody tr th {\n",
       "        vertical-align: top;\n",
       "    }\n",
       "\n",
       "    .dataframe thead th {\n",
       "        text-align: right;\n",
       "    }\n",
       "</style>\n",
       "<table border=\"1\" class=\"dataframe\">\n",
       "  <thead>\n",
       "    <tr style=\"text-align: right;\">\n",
       "      <th></th>\n",
       "      <th>depth</th>\n",
       "      <th>longitude</th>\n",
       "      <th>latitude</th>\n",
       "      <th>fseq</th>\n",
       "    </tr>\n",
       "  </thead>\n",
       "  <tbody>\n",
       "    <tr>\n",
       "      <th>9</th>\n",
       "      <td>0</td>\n",
       "      <td>0</td>\n",
       "      <td>9</td>\n",
       "      <td>0.000000</td>\n",
       "    </tr>\n",
       "    <tr>\n",
       "      <th>10</th>\n",
       "      <td>0</td>\n",
       "      <td>0</td>\n",
       "      <td>10</td>\n",
       "      <td>0.000000</td>\n",
       "    </tr>\n",
       "    <tr>\n",
       "      <th>11</th>\n",
       "      <td>0</td>\n",
       "      <td>0</td>\n",
       "      <td>11</td>\n",
       "      <td>0.000000</td>\n",
       "    </tr>\n",
       "    <tr>\n",
       "      <th>12</th>\n",
       "      <td>0</td>\n",
       "      <td>0</td>\n",
       "      <td>12</td>\n",
       "      <td>0.000000</td>\n",
       "    </tr>\n",
       "    <tr>\n",
       "      <th>13</th>\n",
       "      <td>0</td>\n",
       "      <td>0</td>\n",
       "      <td>13</td>\n",
       "      <td>0.000000</td>\n",
       "    </tr>\n",
       "    <tr>\n",
       "      <th>...</th>\n",
       "      <td>...</td>\n",
       "      <td>...</td>\n",
       "      <td>...</td>\n",
       "      <td>...</td>\n",
       "    </tr>\n",
       "    <tr>\n",
       "      <th>409494</th>\n",
       "      <td>24</td>\n",
       "      <td>179</td>\n",
       "      <td>85</td>\n",
       "      <td>0.813195</td>\n",
       "    </tr>\n",
       "    <tr>\n",
       "      <th>409495</th>\n",
       "      <td>24</td>\n",
       "      <td>179</td>\n",
       "      <td>86</td>\n",
       "      <td>0.791981</td>\n",
       "    </tr>\n",
       "    <tr>\n",
       "      <th>409496</th>\n",
       "      <td>24</td>\n",
       "      <td>179</td>\n",
       "      <td>87</td>\n",
       "      <td>0.786636</td>\n",
       "    </tr>\n",
       "    <tr>\n",
       "      <th>409497</th>\n",
       "      <td>24</td>\n",
       "      <td>179</td>\n",
       "      <td>88</td>\n",
       "      <td>0.794703</td>\n",
       "    </tr>\n",
       "    <tr>\n",
       "      <th>409498</th>\n",
       "      <td>24</td>\n",
       "      <td>179</td>\n",
       "      <td>89</td>\n",
       "      <td>0.794490</td>\n",
       "    </tr>\n",
       "  </tbody>\n",
       "</table>\n",
       "<p>234282 rows × 4 columns</p>\n",
       "</div>"
      ],
      "text/plain": [
       "        depth  longitude  latitude      fseq\n",
       "9           0          0         9  0.000000\n",
       "10          0          0        10  0.000000\n",
       "11          0          0        11  0.000000\n",
       "12          0          0        12  0.000000\n",
       "13          0          0        13  0.000000\n",
       "...       ...        ...       ...       ...\n",
       "409494     24        179        85  0.813195\n",
       "409495     24        179        86  0.791981\n",
       "409496     24        179        87  0.786636\n",
       "409497     24        179        88  0.794703\n",
       "409498     24        179        89  0.794490\n",
       "\n",
       "[234282 rows x 4 columns]"
      ]
     },
     "execution_count": 28,
     "metadata": {},
     "output_type": "execute_result"
    }
   ],
   "source": [
    "# Ensure fseq_shallow is computed (if Dask-backed)\n",
    "fseq_valid = fseq_shallow.where((fseq_shallow >= 0) & (fseq_shallow <= 1)).compute()\n",
    "\n",
    "# Convert to a Pandas DataFrame with coordinates\n",
    "df = fseq_valid.to_dataframe(name='fseq').reset_index()\n",
    "\n",
    "df_clean = df.dropna(subset=['fseq'])\n",
    "df_clean"
   ]
  },
  {
   "cell_type": "code",
   "execution_count": 43,
   "id": "de6227e5-0744-4842-a63c-073de29ce8ab",
   "metadata": {},
   "outputs": [
    {
     "name": "stdout",
     "output_type": "stream",
     "text": [
      "Actual depth values (m):\n",
      "[  4.93454087   4.93454087   4.93454087 ... 831.56158473 831.56158473\n",
      " 831.56158473]\n",
      "\n",
      "Differences between levels (m):\n",
      "[ 9.94293791 10.23836255 10.82921183 11.71548575 12.89718431 14.37430751\n",
      " 16.14685535 18.21482784 20.57822496 23.23704672 26.19129312 29.44096417\n",
      " 32.98605985 36.82658018 40.96252514 45.39389475 50.12068899 55.14290788\n",
      " 60.4605514  66.07361957 71.98211237 78.18602982 84.68537191]\n"
     ]
    },
    {
     "data": {
      "text/plain": [
       "array([  4.93454087,  14.87747878,  25.11584133,  35.94505315,\n",
       "        47.6605389 ,  60.55772321,  74.93203072,  91.07888608,\n",
       "       109.29371391, 129.87193887, 153.10898559, 179.30027871,\n",
       "       208.74124288, 241.72730273, 278.55388291, 319.51640805,\n",
       "       364.9103028 , 415.03099179, 470.17389966, 530.63445106,\n",
       "       596.70807063, 668.69018301, 746.87621283, 831.56158473])"
      ]
     },
     "execution_count": 43,
     "metadata": {},
     "output_type": "execute_result"
    }
   ],
   "source": [
    "# Get all depth values (for levels 0-23 if using 24 levels for 0-1000m)\n",
    "depth_values = ds['DEPTH'].isel(depth=slice(0, 24)).compute()  # First 24 levels\n",
    "# Print unique depth values\n",
    "print(\"Actual depth values (m):\")\n",
    "print(depth_values.values.flatten())\n",
    "\n",
    "# Check if differences between levels are constant\n",
    "depth_diff = np.diff(np.sort(np.unique(depth_values)))\n",
    "print(\"\\nDifferences between levels (m):\")\n",
    "print(depth_diff)\n",
    "# Get exact depth values per level\n",
    "depth_levels = ds['DEPTH'].isel(depth=slice(0, 24)).values.flatten()\n",
    "\n",
    "np.unique(depth_levels)"
   ]
  },
  {
   "cell_type": "code",
   "execution_count": 44,
   "id": "f17d1fb9-26e3-432e-ab66-b6f965078745",
   "metadata": {},
   "outputs": [],
   "source": [
    "# Your 24 unique depth values (in meters)\n",
    "depth_values = np.array([\n",
    "    4.93454087, 14.87747878, 25.11584133, 35.94505315,\n",
    "    47.6605389, 60.55772321, 74.93203072, 91.07888608,\n",
    "    109.29371391, 129.87193887, 153.10898559, 179.30027871,\n",
    "    208.74124288, 241.72730273, 278.55388291, 319.51640805,\n",
    "    364.9103028, 415.03099179, 470.17389966, 530.63445106,\n",
    "    596.70807063, 668.69018301, 746.87621283, 831.56158473\n",
    "])\n",
    "\n",
    "# Create a mapping from level index (0-23) to depth\n",
    "level_to_depth = {i: depth_values[i] for i in range(len(depth_values))}"
   ]
  },
  {
   "cell_type": "code",
   "execution_count": 51,
   "id": "560006fd-41ea-43f8-ac13-9c6a8bc42146",
   "metadata": {},
   "outputs": [
    {
     "data": {
      "text/plain": [
       "<Axes: ylabel='Frequency'>"
      ]
     },
     "execution_count": 51,
     "metadata": {},
     "output_type": "execute_result"
    },
    {
     "data": {
      "image/png": "[encoded data removed]",
      "text/plain": [
       "<Figure size 640x480 with 1 Axes>"
      ]
     },
     "metadata": {},
     "output_type": "display_data"
    }
   ],
   "source": [
    "# Map level indices to actual depths\n",
    "df['depth_meters'] = df['depth'].map(level_to_depth)\n",
    "df.fseq.plot.hist()"
   ]
  },
  {
   "cell_type": "code",
   "execution_count": 53,
   "id": "ef6ce6ae-5885-40cb-b6e3-b65093a7b504",
   "metadata": {},
   "outputs": [],
   "source": [
    "df.to_csv('co2_sequestration_50years.csv', index=False)"
   ]
  }
 ],
 "metadata": {
  "kernelspec": {
   "display_name": "Python 3 (ipykernel)",
   "language": "python",
   "name": "python3"
  },
  "language_info": {
   "codemirror_mode": {
    "name": "ipython",
    "version": 3
   },
   "file_extension": ".py",
   "mimetype": "text/x-python",
   "name": "python",
   "nbconvert_exporter": "python",
   "pygments_lexer": "ipython3",
   "version": "3.8.18"
  }
 },
 "nbformat": 4,
 "nbformat_minor": 5
}
